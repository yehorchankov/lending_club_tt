{
 "cells": [
  {
   "cell_type": "markdown",
   "metadata": {},
   "source": [
    "# Test task for DataRobot\n",
    "## Problem Overview "
   ]
  },
  {
   "cell_type": "markdown",
   "metadata": {},
   "source": [
    "Predicting loan defaults is an extremely common use case for machine learning in banking, one\n",
    "of DataRobot’s main target industries. As a loan officer, you are responsible for determining\n",
    "which loans are going to be the most profitable and worthy of lending money to. Based on a\n",
    "loan application from a potential client, you would like to predict whether the loan will be paid\n",
    "back in time.\n",
    "\n",
    "Let's rock!"
   ]
  },
  {
   "cell_type": "markdown",
   "metadata": {},
   "source": [
    "## Imports\n"
   ]
  },
  {
   "cell_type": "code",
   "execution_count": 31,
   "metadata": {},
   "outputs": [],
   "source": [
    "import pandas as pd\n",
    "import numpy as np\n",
    "import matplotlib.pyplot as plt\n",
    "import pickle as pkl\n",
    "import logging\n",
    "import datetime\n",
    "import nltk\n",
    "import gensim\n",
    "import gensim.downloader as api\n",
    "import warnings\n",
    "from sklearn.linear_model import LogisticRegression\n",
    "from sklearn.model_selection import cross_val_score, cross_validate\n",
    "from sklearn.preprocessing import StandardScaler\n",
    "from sklearn.preprocessing import RobustScaler\n",
    "from sklearn.dummy import DummyClassifier\n",
    "from sklearn.base import BaseEstimator, ClassifierMixin\n",
    "from sklearn.ensemble import RandomForestClassifier\n",
    "from sklearn.feature_selection import SelectKBest\n",
    "from sklearn.feature_selection import mutual_info_classif, f_classif\n",
    "from sklearn.metrics import f1_score, log_loss\n",
    "from sklearn.neural_network import MLPClassifier\n",
    "\n",
    "warnings.filterwarnings(\"ignore\")\n",
    "\n",
    "%matplotlib inline"
   ]
  },
  {
   "cell_type": "markdown",
   "metadata": {},
   "source": [
    "## Config and helpers"
   ]
  },
  {
   "cell_type": "code",
   "execution_count": 2,
   "metadata": {
    "scrolled": true
   },
   "outputs": [],
   "source": [
    "class Constants():\n",
    "    \"\"\"\n",
    "    Constants class encapsulate constant values \n",
    "    that are used all over the project\n",
    "    \"\"\"\n",
    "    DATA_FILE = 'DR_Demo_Lending_Club.csv'\n",
    "    COLUMN_TYPES = {'home_ownership': str, 'verification_status': str, \n",
    "                    'pymnt_plan': str, 'purpose_cat': str, \n",
    "                    'purpose': str, 'addr_state': str, \n",
    "                    'initial_list_status': str, 'policy_code': str, \n",
    "                    'emp_length': float, 'annual_inc': float,\n",
    "                    'debt_to_income': float, 'delinq_2yrs': float,\n",
    "                    'inq_last_6mths': float, 'mths_since_last_delinq': float,\n",
    "                    'mths_since_last_record': float, 'open_acc': float,\n",
    "                    'pub_rec': float, 'revol_bal': float, \n",
    "                    'revol_util': float, 'total_acc': float, \n",
    "                    'collections_12_mths_ex_med': float, 'mths_since_last_major_derog': float,\n",
    "                    'Notes': str, 'emp_title': str, \n",
    "                    'zip_code': str, 'earliest_cr_line': str, 'Id': int, 'is_bad': int}\n",
    "    INDEX_COL = 'Id'\n",
    "    TARGET_COL = 'is_bad'\n",
    "    DATETIME_COLS = ['earliest_cr_line']\n",
    "    TEXT_COLS = ['purpose', 'Notes']\n",
    "    NUMERIC_COLS = ['emp_length', 'annual_inc', 'debt_to_income', 'delinq_2yrs', 'inq_last_6mths',\n",
    "                    'mths_since_last_delinq', 'mths_since_last_record', 'open_acc',\n",
    "                    'pub_rec', 'revol_bal', 'revol_util', 'total_acc', \n",
    "                    'collections_12_mths_ex_med', 'mths_since_last_major_derog']\n",
    "    CAT_COLS = ['home_ownership', 'verification_status', 'pymnt_plan', \n",
    "                'purpose_cat', 'addr_state', 'initial_list_status', 'policy_code']\n",
    "    NA_ZERO_COLS = ['mths_since_last_delinq', 'mths_since_last_record']\n",
    "    FILL_MEDIAN_COLS = ['emp_length', 'annual_inc', 'debt_to_income', 'delinq_2yrs', 'inq_last_6mths',\n",
    "                        'open_acc', 'pub_rec', 'revol_bal', 'revol_util', 'total_acc', \n",
    "                        'collections_12_mths_ex_med', 'mths_since_last_major_derog']\n",
    "    NA_VALS = ['NA', 'na', '', np.nan, None, 'NONE', 'none']\n",
    "    STATE_SUBS = {'TX': 'south', 'KS': 'midwest', 'CA': 'west', 'NY': 'northeast', 'OH': 'midwest',\n",
    "                  'DC': 'south', 'NV': 'west', 'IL': 'midwest', 'WA': 'west', 'DE': 'south', \n",
    "                  'FL': 'south', 'NJ': 'northeast', 'OK': 'south', 'VA': 'south', 'NH': 'northeast',\n",
    "                  'MA': 'northeast', 'NC': 'south', 'OR': 'west', 'GA': 'south', 'CO': 'west', \n",
    "                  'MD': 'south', 'CT': 'northeast', 'MO': 'midwest', 'WI': 'midwest', 'AZ': 'west', \n",
    "                  'SC': 'south', 'MN': 'midwest', 'MI': 'midwest', 'PA': 'northeast', 'AK': 'west', \n",
    "                  'AR': 'south', 'LA': 'south', 'HI': 'west', 'WV': 'south', 'KY': 'south', \n",
    "                  'RI': 'northeast', 'AL': 'south', 'SD': 'midwest', 'NM': 'west', 'ID': 'west', \n",
    "                  'UT': 'west', 'MT': 'west', 'WY': 'west', 'VT': 'northeast', 'TN': 'south', \n",
    "                  'IA': 'midwest', 'MS': 'south', 'NE': 'midwest', 'IN': 'midwest', 'ME': 'northeast'}\n",
    "    STOPWORDS = nltk.corpus.stopwords.words('english')\n",
    "    \n",
    "const = Constants()"
   ]
  },
  {
   "cell_type": "markdown",
   "metadata": {},
   "source": [
    "### Data saver and loader"
   ]
  },
  {
   "cell_type": "code",
   "execution_count": 3,
   "metadata": {},
   "outputs": [],
   "source": [
    "def load_df(file):\n",
    "    \"\"\"\n",
    "    Loads data from csv-like file in to DataFrame\n",
    "    :param file: str, name of a file on disk or URL\n",
    "    :return: pandas DataFrame\n",
    "    \"\"\"\n",
    "    return pd.read_csv(file, header=0, dtype=const.COLUMN_TYPES, \n",
    "                       index_col=const.INDEX_COL, na_values=const.NA_VALS)\n",
    "\n",
    "\n",
    "def save_data(data, file):\n",
    "    \"\"\"\n",
    "    Serializes data object to pickle file\n",
    "    :param data: object, a data to save\n",
    "    :param file: str, path or filename to save file to\n",
    "    :return: \n",
    "    \"\"\"\n",
    "    try:\n",
    "        with open(file) as dest:\n",
    "            pkl.dump(data, dest)\n",
    "    except Exception as e:\n",
    "        loggin.warn('Error saving data')"
   ]
  },
  {
   "cell_type": "markdown",
   "metadata": {},
   "source": [
    "Now let's first download the data and make a brief overview of what structure it has."
   ]
  },
  {
   "cell_type": "code",
   "execution_count": 4,
   "metadata": {},
   "outputs": [],
   "source": [
    "data_original = load_df(const.DATA_FILE)"
   ]
  },
  {
   "cell_type": "code",
   "execution_count": 5,
   "metadata": {},
   "outputs": [
    {
     "data": {
      "text/html": [
       "<div>\n",
       "<style scoped>\n",
       "    .dataframe tbody tr th:only-of-type {\n",
       "        vertical-align: middle;\n",
       "    }\n",
       "\n",
       "    .dataframe tbody tr th {\n",
       "        vertical-align: top;\n",
       "    }\n",
       "\n",
       "    .dataframe thead th {\n",
       "        text-align: right;\n",
       "    }\n",
       "</style>\n",
       "<table border=\"1\" class=\"dataframe\">\n",
       "  <thead>\n",
       "    <tr style=\"text-align: right;\">\n",
       "      <th></th>\n",
       "      <th>is_bad</th>\n",
       "      <th>emp_title</th>\n",
       "      <th>emp_length</th>\n",
       "      <th>home_ownership</th>\n",
       "      <th>annual_inc</th>\n",
       "      <th>verification_status</th>\n",
       "      <th>pymnt_plan</th>\n",
       "      <th>Notes</th>\n",
       "      <th>purpose_cat</th>\n",
       "      <th>purpose</th>\n",
       "      <th>...</th>\n",
       "      <th>mths_since_last_record</th>\n",
       "      <th>open_acc</th>\n",
       "      <th>pub_rec</th>\n",
       "      <th>revol_bal</th>\n",
       "      <th>revol_util</th>\n",
       "      <th>total_acc</th>\n",
       "      <th>initial_list_status</th>\n",
       "      <th>collections_12_mths_ex_med</th>\n",
       "      <th>mths_since_last_major_derog</th>\n",
       "      <th>policy_code</th>\n",
       "    </tr>\n",
       "    <tr>\n",
       "      <th>Id</th>\n",
       "      <th></th>\n",
       "      <th></th>\n",
       "      <th></th>\n",
       "      <th></th>\n",
       "      <th></th>\n",
       "      <th></th>\n",
       "      <th></th>\n",
       "      <th></th>\n",
       "      <th></th>\n",
       "      <th></th>\n",
       "      <th></th>\n",
       "      <th></th>\n",
       "      <th></th>\n",
       "      <th></th>\n",
       "      <th></th>\n",
       "      <th></th>\n",
       "      <th></th>\n",
       "      <th></th>\n",
       "      <th></th>\n",
       "      <th></th>\n",
       "      <th></th>\n",
       "    </tr>\n",
       "  </thead>\n",
       "  <tbody>\n",
       "    <tr>\n",
       "      <th>1</th>\n",
       "      <td>0</td>\n",
       "      <td>Time Warner Cable</td>\n",
       "      <td>10.0</td>\n",
       "      <td>MORTGAGE</td>\n",
       "      <td>50000.0</td>\n",
       "      <td>not verified</td>\n",
       "      <td>n</td>\n",
       "      <td>NaN</td>\n",
       "      <td>medical</td>\n",
       "      <td>Medical</td>\n",
       "      <td>...</td>\n",
       "      <td>NaN</td>\n",
       "      <td>15.0</td>\n",
       "      <td>0.0</td>\n",
       "      <td>12087.0</td>\n",
       "      <td>12.1</td>\n",
       "      <td>44.0</td>\n",
       "      <td>f</td>\n",
       "      <td>0.0</td>\n",
       "      <td>1.0</td>\n",
       "      <td>PC4</td>\n",
       "    </tr>\n",
       "    <tr>\n",
       "      <th>2</th>\n",
       "      <td>0</td>\n",
       "      <td>Ottawa University</td>\n",
       "      <td>1.0</td>\n",
       "      <td>RENT</td>\n",
       "      <td>39216.0</td>\n",
       "      <td>not verified</td>\n",
       "      <td>n</td>\n",
       "      <td>Borrower added on 04/14/11 &gt; I will be using...</td>\n",
       "      <td>debt consolidation</td>\n",
       "      <td>My Debt Consolidation Loan</td>\n",
       "      <td>...</td>\n",
       "      <td>NaN</td>\n",
       "      <td>4.0</td>\n",
       "      <td>0.0</td>\n",
       "      <td>10114.0</td>\n",
       "      <td>64.0</td>\n",
       "      <td>5.0</td>\n",
       "      <td>f</td>\n",
       "      <td>0.0</td>\n",
       "      <td>2.0</td>\n",
       "      <td>PC1</td>\n",
       "    </tr>\n",
       "    <tr>\n",
       "      <th>3</th>\n",
       "      <td>0</td>\n",
       "      <td>Kennedy Wilson</td>\n",
       "      <td>4.0</td>\n",
       "      <td>RENT</td>\n",
       "      <td>65000.0</td>\n",
       "      <td>not verified</td>\n",
       "      <td>n</td>\n",
       "      <td>NaN</td>\n",
       "      <td>credit card</td>\n",
       "      <td>AP Personal Loan</td>\n",
       "      <td>...</td>\n",
       "      <td>NaN</td>\n",
       "      <td>4.0</td>\n",
       "      <td>0.0</td>\n",
       "      <td>81.0</td>\n",
       "      <td>0.6</td>\n",
       "      <td>8.0</td>\n",
       "      <td>f</td>\n",
       "      <td>0.0</td>\n",
       "      <td>3.0</td>\n",
       "      <td>PC4</td>\n",
       "    </tr>\n",
       "    <tr>\n",
       "      <th>4</th>\n",
       "      <td>0</td>\n",
       "      <td>TOWN OF PLATTEKILL</td>\n",
       "      <td>10.0</td>\n",
       "      <td>MORTGAGE</td>\n",
       "      <td>57500.0</td>\n",
       "      <td>not verified</td>\n",
       "      <td>n</td>\n",
       "      <td>NaN</td>\n",
       "      <td>debt consolidation</td>\n",
       "      <td>Debt Consolidation Loan</td>\n",
       "      <td>...</td>\n",
       "      <td>NaN</td>\n",
       "      <td>6.0</td>\n",
       "      <td>0.0</td>\n",
       "      <td>10030.0</td>\n",
       "      <td>37.1</td>\n",
       "      <td>23.0</td>\n",
       "      <td>f</td>\n",
       "      <td>0.0</td>\n",
       "      <td>2.0</td>\n",
       "      <td>PC2</td>\n",
       "    </tr>\n",
       "    <tr>\n",
       "      <th>5</th>\n",
       "      <td>0</td>\n",
       "      <td>Belmont Correctional</td>\n",
       "      <td>10.0</td>\n",
       "      <td>MORTGAGE</td>\n",
       "      <td>50004.0</td>\n",
       "      <td>VERIFIED - income</td>\n",
       "      <td>n</td>\n",
       "      <td>I want to consolidate my debt, pay for a vacat...</td>\n",
       "      <td>debt consolidation</td>\n",
       "      <td>consolidate</td>\n",
       "      <td>...</td>\n",
       "      <td>NaN</td>\n",
       "      <td>8.0</td>\n",
       "      <td>0.0</td>\n",
       "      <td>10740.0</td>\n",
       "      <td>40.4</td>\n",
       "      <td>21.0</td>\n",
       "      <td>f</td>\n",
       "      <td>0.0</td>\n",
       "      <td>3.0</td>\n",
       "      <td>PC3</td>\n",
       "    </tr>\n",
       "  </tbody>\n",
       "</table>\n",
       "<p>5 rows × 27 columns</p>\n",
       "</div>"
      ],
      "text/plain": [
       "    is_bad             emp_title  emp_length home_ownership  annual_inc  \\\n",
       "Id                                                                        \n",
       "1        0     Time Warner Cable        10.0       MORTGAGE     50000.0   \n",
       "2        0     Ottawa University         1.0           RENT     39216.0   \n",
       "3        0        Kennedy Wilson         4.0           RENT     65000.0   \n",
       "4        0    TOWN OF PLATTEKILL        10.0       MORTGAGE     57500.0   \n",
       "5        0  Belmont Correctional        10.0       MORTGAGE     50004.0   \n",
       "\n",
       "   verification_status pymnt_plan  \\\n",
       "Id                                  \n",
       "1         not verified          n   \n",
       "2         not verified          n   \n",
       "3         not verified          n   \n",
       "4         not verified          n   \n",
       "5    VERIFIED - income          n   \n",
       "\n",
       "                                                Notes         purpose_cat  \\\n",
       "Id                                                                          \n",
       "1                                                 NaN             medical   \n",
       "2     Borrower added on 04/14/11 > I will be using...  debt consolidation   \n",
       "3                                                 NaN         credit card   \n",
       "4                                                 NaN  debt consolidation   \n",
       "5   I want to consolidate my debt, pay for a vacat...  debt consolidation   \n",
       "\n",
       "                       purpose     ...      mths_since_last_record open_acc  \\\n",
       "Id                                 ...                                        \n",
       "1                      Medical     ...                         NaN     15.0   \n",
       "2   My Debt Consolidation Loan     ...                         NaN      4.0   \n",
       "3             AP Personal Loan     ...                         NaN      4.0   \n",
       "4      Debt Consolidation Loan     ...                         NaN      6.0   \n",
       "5                  consolidate     ...                         NaN      8.0   \n",
       "\n",
       "    pub_rec  revol_bal revol_util  total_acc  initial_list_status  \\\n",
       "Id                                                                  \n",
       "1       0.0    12087.0       12.1       44.0                    f   \n",
       "2       0.0    10114.0       64.0        5.0                    f   \n",
       "3       0.0       81.0        0.6        8.0                    f   \n",
       "4       0.0    10030.0       37.1       23.0                    f   \n",
       "5       0.0    10740.0       40.4       21.0                    f   \n",
       "\n",
       "    collections_12_mths_ex_med  mths_since_last_major_derog  policy_code  \n",
       "Id                                                                        \n",
       "1                          0.0                          1.0          PC4  \n",
       "2                          0.0                          2.0          PC1  \n",
       "3                          0.0                          3.0          PC4  \n",
       "4                          0.0                          2.0          PC2  \n",
       "5                          0.0                          3.0          PC3  \n",
       "\n",
       "[5 rows x 27 columns]"
      ]
     },
     "execution_count": 5,
     "metadata": {},
     "output_type": "execute_result"
    }
   ],
   "source": [
    "data_original.head()"
   ]
  },
  {
   "cell_type": "markdown",
   "metadata": {},
   "source": [
    "# Data exploration\n",
    "\n",
    "First of we need to inspect the data for NaN values. It is crucial as not all ML models can deal with absent data. "
   ]
  },
  {
   "cell_type": "markdown",
   "metadata": {},
   "source": [
    "### Check which columns contain nans\n",
    "\n",
    "Firstly, let's check numeric columns and decide on which strategy to use for dealing with outliers."
   ]
  },
  {
   "cell_type": "code",
   "execution_count": 6,
   "metadata": {},
   "outputs": [
    {
     "name": "stdout",
     "output_type": "stream",
     "text": [
      "<class 'pandas.core.frame.DataFrame'>\n",
      "Int64Index: 10000 entries, 1 to 10000\n",
      "Data columns (total 14 columns):\n",
      "emp_length                     9750 non-null float64\n",
      "annual_inc                     9999 non-null float64\n",
      "debt_to_income                 10000 non-null float64\n",
      "delinq_2yrs                    9995 non-null float64\n",
      "inq_last_6mths                 9995 non-null float64\n",
      "mths_since_last_delinq         3684 non-null float64\n",
      "mths_since_last_record         840 non-null float64\n",
      "open_acc                       9995 non-null float64\n",
      "pub_rec                        9995 non-null float64\n",
      "revol_bal                      10000 non-null float64\n",
      "revol_util                     9974 non-null float64\n",
      "total_acc                      9995 non-null float64\n",
      "collections_12_mths_ex_med     9968 non-null float64\n",
      "mths_since_last_major_derog    10000 non-null float64\n",
      "dtypes: float64(14)\n",
      "memory usage: 1.1 MB\n"
     ]
    }
   ],
   "source": [
    "data_original[const.NUMERIC_COLS].info()"
   ]
  },
  {
   "cell_type": "markdown",
   "metadata": {},
   "source": [
    "As we can see, some columns have little number of nans. That's not a big deal. \n",
    "\n",
    "On the other hand, there are these columns, where more that half values are missing. \n",
    "\n",
    "We should inspect those and decide what to do next. "
   ]
  },
  {
   "cell_type": "markdown",
   "metadata": {},
   "source": [
    "First of let's check `mths_since_last_delinq` (Number of months since the load applicant last\n",
    "missed a loan repayment) column. It has only 36.8% of data. But the meaning of nans here can vary. \n",
    "\n",
    "Ideally if the column contains nan value, it means, that an applicant has never missed a loan repayment."
   ]
  },
  {
   "cell_type": "code",
   "execution_count": 7,
   "metadata": {},
   "outputs": [
    {
     "data": {
      "text/plain": [
       "array([[<matplotlib.axes._subplots.AxesSubplot object at 0x000001A3E2409D30>]],\n",
       "      dtype=object)"
      ]
     },
     "execution_count": 7,
     "metadata": {},
     "output_type": "execute_result"
    },
    {
     "data": {
      "image/png": "[encoded data removed]",
      "text/plain": [
       "<Figure size 432x288 with 1 Axes>"
      ]
     },
     "metadata": {
      "needs_background": "light"
     },
     "output_type": "display_data"
    }
   ],
   "source": [
    "data_original.hist('mths_since_last_delinq', bins=100)"
   ]
  },
  {
   "cell_type": "markdown",
   "metadata": {},
   "source": [
    "We can see peaks - each 3 month. Also there are many 0 values. However, as we can see later, the ratio of `is_bad` between those who has 0 `mths_since_last_delinq` is almost the same as among all in the dataset. "
   ]
  },
  {
   "cell_type": "code",
   "execution_count": 8,
   "metadata": {},
   "outputs": [
    {
     "data": {
      "text/plain": [
       "0.09202453987730061"
      ]
     },
     "execution_count": 8,
     "metadata": {},
     "output_type": "execute_result"
    }
   ],
   "source": [
    "# Count is_bad ratio between those with 0 mths_since_last_delinq\n",
    "is_bads = data_original[data_original['mths_since_last_delinq'] == 0]['is_bad']\n",
    "np.count_nonzero(is_bads) / is_bads.shape[0]"
   ]
  },
  {
   "cell_type": "code",
   "execution_count": 9,
   "metadata": {},
   "outputs": [
    {
     "data": {
      "text/plain": [
       "0.1295"
      ]
     },
     "execution_count": 9,
     "metadata": {},
     "output_type": "execute_result"
    }
   ],
   "source": [
    "# Count is_bad ratio between all\n",
    "is_bads = data_original['is_bad']\n",
    "np.count_nonzero(is_bads) / is_bads.shape[0]"
   ]
  },
  {
   "cell_type": "markdown",
   "metadata": {},
   "source": [
    "In such situation, the best option would be to create two more columns: `mths_since_last_delinq_0` and `mths_since_last_delinq_na` where 1 would contain rows where `mths_since_last_delinq` equals to 0 and NaN respectively. \n",
    "\n",
    "In `mths_since_last_delinq` we will fill nans with 0. "
   ]
  },
  {
   "cell_type": "markdown",
   "metadata": {},
   "source": [
    "Worse is the situation with `mths_since_last_record` column."
   ]
  },
  {
   "cell_type": "code",
   "execution_count": 10,
   "metadata": {},
   "outputs": [
    {
     "data": {
      "text/plain": [
       "array([[<matplotlib.axes._subplots.AxesSubplot object at 0x000001A3E1529FD0>]],\n",
       "      dtype=object)"
      ]
     },
     "execution_count": 10,
     "metadata": {},
     "output_type": "execute_result"
    },
    {
     "data": {
      "image/png": "[encoded data removed]",
      "text/plain": [
       "<Figure size 432x288 with 1 Axes>"
      ]
     },
     "metadata": {
      "needs_background": "light"
     },
     "output_type": "display_data"
    }
   ],
   "source": [
    "data_original.hist('mths_since_last_record', bins=100)"
   ]
  },
  {
   "cell_type": "markdown",
   "metadata": {},
   "source": [
    "So it seems like a good idea to deal with this column in the same way as with `mths_since_last_record`.\n",
    "\n",
    "All the other columns we will fill with the median value of the respective column."
   ]
  },
  {
   "cell_type": "markdown",
   "metadata": {},
   "source": [
    "### Exploring datetime columns"
   ]
  },
  {
   "cell_type": "code",
   "execution_count": 11,
   "metadata": {},
   "outputs": [
    {
     "name": "stdout",
     "output_type": "stream",
     "text": [
      "<class 'pandas.core.frame.DataFrame'>\n",
      "Int64Index: 10000 entries, 1 to 10000\n",
      "Data columns (total 1 columns):\n",
      "earliest_cr_line    9995 non-null object\n",
      "dtypes: object(1)\n",
      "memory usage: 156.2+ KB\n"
     ]
    }
   ],
   "source": [
    "data_original[const.DATETIME_COLS].info()"
   ]
  },
  {
   "cell_type": "markdown",
   "metadata": {},
   "source": [
    "Checking datetime format to understand how to parse data."
   ]
  },
  {
   "cell_type": "code",
   "execution_count": 12,
   "metadata": {},
   "outputs": [
    {
     "data": {
      "text/html": [
       "<div>\n",
       "<style scoped>\n",
       "    .dataframe tbody tr th:only-of-type {\n",
       "        vertical-align: middle;\n",
       "    }\n",
       "\n",
       "    .dataframe tbody tr th {\n",
       "        vertical-align: top;\n",
       "    }\n",
       "\n",
       "    .dataframe thead th {\n",
       "        text-align: right;\n",
       "    }\n",
       "</style>\n",
       "<table border=\"1\" class=\"dataframe\">\n",
       "  <thead>\n",
       "    <tr style=\"text-align: right;\">\n",
       "      <th></th>\n",
       "      <th>earliest_cr_line</th>\n",
       "    </tr>\n",
       "    <tr>\n",
       "      <th>Id</th>\n",
       "      <th></th>\n",
       "    </tr>\n",
       "  </thead>\n",
       "  <tbody>\n",
       "    <tr>\n",
       "      <th>1</th>\n",
       "      <td>12/01/1992</td>\n",
       "    </tr>\n",
       "    <tr>\n",
       "      <th>2</th>\n",
       "      <td>11/01/2005</td>\n",
       "    </tr>\n",
       "    <tr>\n",
       "      <th>3</th>\n",
       "      <td>06/01/1970</td>\n",
       "    </tr>\n",
       "    <tr>\n",
       "      <th>4</th>\n",
       "      <td>09/01/1982</td>\n",
       "    </tr>\n",
       "    <tr>\n",
       "      <th>5</th>\n",
       "      <td>10/01/1999</td>\n",
       "    </tr>\n",
       "  </tbody>\n",
       "</table>\n",
       "</div>"
      ],
      "text/plain": [
       "   earliest_cr_line\n",
       "Id                 \n",
       "1        12/01/1992\n",
       "2        11/01/2005\n",
       "3        06/01/1970\n",
       "4        09/01/1982\n",
       "5        10/01/1999"
      ]
     },
     "execution_count": 12,
     "metadata": {},
     "output_type": "execute_result"
    }
   ],
   "source": [
    "data_original[const.DATETIME_COLS].head()"
   ]
  },
  {
   "cell_type": "markdown",
   "metadata": {},
   "source": [
    "Seems like the date is in an american format: month-day-year. All 5 missing values can be filled with forward fill method. \n",
    "\n",
    "Later we can engineer features from this particular column, as raw date values gives no usefut information at all."
   ]
  },
  {
   "cell_type": "markdown",
   "metadata": {},
   "source": [
    "### Other columns\n",
    "\n",
    "Let's check categorical columns and decide how to deal with them. It seems obvious that for small number of unique values, one hot encoding is feasible option, however the problem lies in those features that have large numebr of unique values."
   ]
  },
  {
   "cell_type": "code",
   "execution_count": 13,
   "metadata": {},
   "outputs": [],
   "source": [
    "def check_n_uniques(data, columns):\n",
    "    \"\"\"\n",
    "    For every column print number of unique values in the column \n",
    "    and whether the column has NaN values  \n",
    "    :param data: pandas DataFrame, data to search in\n",
    "    :return:\n",
    "    \"\"\"\n",
    "    for column in columns:\n",
    "        uniques = data[column].str.lower().unique()\n",
    "        print(f'Number of unique value in column {column}: {uniques.shape[0]}' \n",
    "              f'(Has nans: {has_common(uniques, const.NA_VALS)})')\n",
    "\n",
    "        \n",
    "def has_common(list0, list1):\n",
    "    \"\"\"\n",
    "    Returns the result of checking whether two lists contain same elements\n",
    "    :param list0: list\n",
    "    :param list1: list\n",
    "    :return: bool\n",
    "    \"\"\"\n",
    "    return bool(set(list0) & set(list1))"
   ]
  },
  {
   "cell_type": "code",
   "execution_count": 14,
   "metadata": {},
   "outputs": [
    {
     "name": "stdout",
     "output_type": "stream",
     "text": [
      "Number of unique value in column home_ownership: 5(Has nans: True)\n",
      "Number of unique value in column verification_status: 3(Has nans: False)\n",
      "Number of unique value in column pymnt_plan: 2(Has nans: False)\n",
      "Number of unique value in column purpose_cat: 27(Has nans: False)\n",
      "Number of unique value in column addr_state: 50(Has nans: False)\n",
      "Number of unique value in column initial_list_status: 2(Has nans: False)\n",
      "Number of unique value in column policy_code: 5(Has nans: False)\n"
     ]
    }
   ],
   "source": [
    "# Checking for unique values in categorical columns\n",
    "check_n_uniques(data_original, const.CAT_COLS)"
   ]
  },
  {
   "cell_type": "markdown",
   "metadata": {},
   "source": [
    "All columns contains not too many unique values, moreover there are no nans in each of these columns (except `home_ownership`), so we can deal with them as with categorical features. \n",
    "\n",
    "Columns with only 2 unique values will be converted to one column - containing 0 or 1, other columns will be one-hot encoded.\n",
    "\n",
    "Let's check `purpose` column."
   ]
  },
  {
   "cell_type": "code",
   "execution_count": 15,
   "metadata": {},
   "outputs": [
    {
     "data": {
      "text/plain": [
       "array(['medical', 'debt consolidation', 'credit card', 'other', 'car',\n",
       "       'wedding', 'other small business', 'house', 'small business',\n",
       "       'educational', 'major purchase', 'home improvement', 'vacation',\n",
       "       'debt consolidation small business', 'moving',\n",
       "       'credit card small business', 'wedding small business',\n",
       "       'small business small business', 'home improvement small business',\n",
       "       'major purchase small business', 'educational small business',\n",
       "       'house small business', 'renewable energy',\n",
       "       'moving small business', 'medical small business',\n",
       "       'vacation small business', 'car small business'], dtype=object)"
      ]
     },
     "execution_count": 15,
     "metadata": {},
     "output_type": "execute_result"
    }
   ],
   "source": [
    "data_original['purpose_cat'].unique()"
   ]
  },
  {
   "cell_type": "markdown",
   "metadata": {},
   "source": [
    "`purpose_cat` column contains too many repeating information about categories that are related to small business. We can deal with it by creating new column `purpose_cat_small_business` that will contain 1 for every value that contains `small business` phrase. Other values we will deal with just like categorical.  \n",
    "\n",
    "Another column with large number of unique values is `addr_state`."
   ]
  },
  {
   "cell_type": "code",
   "execution_count": 16,
   "metadata": {},
   "outputs": [
    {
     "data": {
      "text/plain": [
       "array(['TX', 'KS', 'CA', 'NY', 'OH', 'DC', 'NV', 'IL', 'WA', 'DE', 'FL',\n",
       "       'NJ', 'OK', 'VA', 'NH', 'MA', 'NC', 'OR', 'GA', 'CO', 'MD', 'CT',\n",
       "       'MO', 'WI', 'AZ', 'SC', 'MN', 'MI', 'PA', 'AK', 'AR', 'LA', 'HI',\n",
       "       'WV', 'KY', 'RI', 'AL', 'SD', 'NM', 'ID', 'UT', 'MT', 'WY', 'VT',\n",
       "       'TN', 'IA', 'MS', 'NE', 'IN', 'ME'], dtype=object)"
      ]
     },
     "execution_count": 16,
     "metadata": {},
     "output_type": "execute_result"
    }
   ],
   "source": [
    "data_original['addr_state'].unique()"
   ]
  },
  {
   "cell_type": "markdown",
   "metadata": {},
   "source": [
    "`addr_state` contains 50 categories, thus 50 new columns will be created after one-hot encoding. To prevent this we will substitute state names with region names (e.g. Notheast, Midwest etc.) according to United States Census Bureau."
   ]
  },
  {
   "cell_type": "markdown",
   "metadata": {},
   "source": [
    "# Preprocessing the data\n",
    "\n",
    "## Preprocessing pipeline helpers\n",
    "\n",
    "Here we define helping functions that we will use to preprocess the data."
   ]
  },
  {
   "cell_type": "code",
   "execution_count": 17,
   "metadata": {},
   "outputs": [],
   "source": [
    "def na_zero_to_separate_column(data, columns):\n",
    "    \"\"\"\n",
    "    Extract zero and NaN values as one-hot encoded binary columns \n",
    "    and fill NaN values in target column with zeros \n",
    "    :param data: pandas DataFrame, data to preprocess\n",
    "    :param columns: list, target columns\n",
    "    :return: pandas DataFrame, preprocessed data\n",
    "    \"\"\"\n",
    "    data_modified = data.copy()\n",
    "    for column in columns:\n",
    "        # Create separate columns for different values\n",
    "        data_modified[column + '_na'] = data_modified[column].isna()\n",
    "        data_modified[column + '_0'] = data_modified[column] == 0\n",
    "    # Fill with zeros\n",
    "    fill_values = {col: 0 for col in columns}\n",
    "    data_modified = data_modified.fillna(value=fill_values)\n",
    "    return data_modified\n",
    "\n",
    "\n",
    "def to_datetime(data, columns):\n",
    "    \"\"\"\n",
    "    Convert values in target columns to datetime object\n",
    "    :param data: pandas DataFrame, data to preprocess\n",
    "    :param columns: list, target columns\n",
    "    :return: pandas DataFrame, preprocessed data\n",
    "    \"\"\"\n",
    "    data_modified = data.copy()\n",
    "    data_modified[columns] = data_modified[columns].apply(pd.to_datetime, \n",
    "                                                          format='%m/%d/%Y', \n",
    "                                                          infer_datetime_format=True)\n",
    "    return data_modified\n",
    "\n",
    "\n",
    "def to_one_hot(data, columns):\n",
    "    \"\"\"\n",
    "    Convert values in target columns to one-hot encoded columns\n",
    "    Columns are named as `target_column` + index\n",
    "    :param data: pandas DataFrame, data to preprocess\n",
    "    :param columns: list, target columns\n",
    "    :return: pandas DataFrame, preprocessed data\n",
    "    \"\"\"\n",
    "    data_modified = data.copy()\n",
    "    return pd.get_dummies(data_modified, columns=columns)\n",
    "\n",
    "\n",
    "def fill_na_median(data, columns):\n",
    "    \"\"\"\n",
    "    Fill absent values in target columns \n",
    "    with median values in the column\n",
    "    :param data: pandas DataFrame, data to preprocess\n",
    "    :param columns: list, target columns\n",
    "    :return: pandas DataFrame, preprocessed data\n",
    "    \"\"\"\n",
    "    data_modified = data.copy()\n",
    "    median = data_modified[columns].median()\n",
    "    data_modified[columns] = data_modified[columns].fillna(median)\n",
    "    return data_modified\n",
    "\n",
    "\n",
    "def ffill_na(data, columns):\n",
    "    \"\"\"\n",
    "    Fill absent values in target columns with forward fill method\n",
    "    :param data: pandas DataFrame, data to preprocess\n",
    "    :param columns: list, target columns\n",
    "    :return: pandas DataFrame, preprocessed data\n",
    "    \"\"\"\n",
    "    data_modified = data.copy()\n",
    "    data_modified[columns] = data_modified[columns].fillna(method='ffill')\n",
    "    return data_modified\n",
    "\n",
    "\n",
    "def deal_with_purpose_cat(data, column='purpose_cat', phrase='small business'):\n",
    "    \"\"\"\n",
    "    Create separate column for `purpose_cat` column indicating small business.\n",
    "    All values from the column, that contain small business in values will have 1 in the new column.\n",
    "    :param data: pandas DataFrame, data to preprocess\n",
    "    :param columns: list, target columns\n",
    "    :return: pandas DataFrame, preprocessed data\n",
    "    \"\"\"\n",
    "    data_modified = data.copy()\n",
    "    small_business_mask = data_modified[column].str.contains(phrase)\n",
    "    data_modified[column + '_small_business'] = small_business_mask\n",
    "    data_modified.loc[small_business_mask, column] = \\\n",
    "        data_modified.loc[small_business_mask, column].str.replace(phrase, '').str.strip()\n",
    "    return data_modified\n",
    "\n",
    "\n",
    "def deal_with_state_codes(data, column='addr_state', subs=const.STATE_SUBS):\n",
    "    \"\"\"\n",
    "    Exchange status codes to substitution values\n",
    "    :param data: pandas DataFrame, data to preprocess\n",
    "    :param columns: list, target columns\n",
    "    :return: pandas DataFrame, preprocessed data\n",
    "    \"\"\"\n",
    "    data_modified = data.copy()\n",
    "    data_modified[column] = data_modified[column].apply(lambda x: subs[x])\n",
    "    return data_modified"
   ]
  },
  {
   "cell_type": "markdown",
   "metadata": {},
   "source": [
    "### Apply pipeline"
   ]
  },
  {
   "cell_type": "code",
   "execution_count": 18,
   "metadata": {},
   "outputs": [],
   "source": [
    "# Extract NaNs in separate columns\n",
    "data_na_fixed = na_zero_to_separate_column(data_original, const.NA_ZERO_COLS)\n",
    "# Fill NaNs with median values\n",
    "data_na_med = fill_na_median(data_na_fixed, const.FILL_MEDIAN_COLS)\n",
    "# Fill NaNs in datetime columns\n",
    "data_na_ffiled = ffill_na(data_na_med, const.DATETIME_COLS)\n",
    "# Convert datetime columns to datetime type\n",
    "data_na_dt = to_datetime(data_na_ffiled, const.DATETIME_COLS)\n",
    "# Deal with purpose_cat column\n",
    "data_na_dt_pupr = deal_with_purpose_cat(data_na_dt)\n",
    "# Substitute state codes\n",
    "data_na_dt_purp_state = deal_with_state_codes(data_na_dt_pupr)\n",
    "# Convert other categorical features to one-hot encoding\n",
    "data_na_dt_purp_state_oh = to_one_hot(data_na_dt_purp_state, const.CAT_COLS)"
   ]
  },
  {
   "cell_type": "code",
   "execution_count": 19,
   "metadata": {},
   "outputs": [
    {
     "name": "stdout",
     "output_type": "stream",
     "text": [
      "Number of unique value in column home_ownership: 5(Has nans: True)\n",
      "Number of unique value in column verification_status: 3(Has nans: False)\n",
      "Number of unique value in column pymnt_plan: 2(Has nans: False)\n",
      "Number of unique value in column purpose_cat: 14(Has nans: True)\n",
      "Number of unique value in column addr_state: 4(Has nans: False)\n",
      "Number of unique value in column initial_list_status: 2(Has nans: False)\n",
      "Number of unique value in column policy_code: 5(Has nans: False)\n"
     ]
    }
   ],
   "source": [
    "# Check what's left unprocessed\n",
    "check_n_uniques(data_na_dt_purp_state, const.CAT_COLS)"
   ]
  },
  {
   "cell_type": "markdown",
   "metadata": {},
   "source": [
    "## Dealing with text data\n",
    "\n",
    "There are several columns in the dataset that contain text. These columns can give us valuable insights."
   ]
  },
  {
   "cell_type": "code",
   "execution_count": 20,
   "metadata": {},
   "outputs": [],
   "source": [
    "def extract_date_features(data, columns):\n",
    "    \"\"\"\n",
    "    Create new columns from the datetime column. \n",
    "    New columns include how many days ago does was the referred date. \n",
    "    And which month of the year does the date refer to.\n",
    "    :param data: pandas DataFrame, data to preprocess\n",
    "    :param columns: list, target columns\n",
    "    :return: pandas DataFrame, preprocessed data\n",
    "    \"\"\"\n",
    "    data_modified = data.copy()\n",
    "    for column in columns:\n",
    "        data_modified[column + '_days_ago'] = datetime.datetime.now() - data_modified[column]\n",
    "        data_modified[column + '_days_ago'] = data_modified[column + '_days_ago'].apply(lambda x: x.days)\n",
    "        data_modified[column + '_month'] = data_modified[column].apply(lambda x: x.month)\n",
    "    return data_modified\n",
    "\n",
    "\n",
    "def fillna_text(data, columns):\n",
    "    \"\"\"\n",
    "    Deal with absent data in target text columns\n",
    "    :param data: pandas DataFrame, data to preprocess\n",
    "    :param columns: list, target columns\n",
    "    :return: pandas DataFrame, preprocessed data\n",
    "    \"\"\"\n",
    "    data_modified = data.copy()\n",
    "    data_modified[columns] = data_modified[columns].fillna('').astype(str)\n",
    "    return data_modified\n",
    "\n",
    "\n",
    "def to_lower(data, columns):\n",
    "    \"\"\"\n",
    "    Convert all text from target column to lower case\n",
    "    :param data: pandas DataFrame, data to preprocess\n",
    "    :param columns: list, target columns\n",
    "    :return: pandas DataFrame, preprocessed data\n",
    "    \"\"\"\n",
    "    data_modified = data.copy()\n",
    "    for column in columns:\n",
    "        data_modified[column] = data_modified[column].str.lower()\n",
    "    return data_modified\n",
    "\n",
    "\n",
    "def remove_other_phrases(data, columns, patterns=[\"borrower added on [0-9]+/[0-9]+/[0-9]+\", \n",
    "                                                  \"<[\\w]+[/]?>\", \">\", \"[0-9]+\"]):\n",
    "    \"\"\"\n",
    "    Replace given text or patterns in text to empty string.\n",
    "    Some cases are: typical phrases, html tags, some punctuation and numbers\n",
    "    :param data: pandas DataFrame, data to preprocess\n",
    "    :param columns: list, target columns\n",
    "    :param patterns: list, patterns to match\n",
    "    :return: pandas DataFrame, preprocessed data\n",
    "    \"\"\"\n",
    "    data_modified = data.copy()\n",
    "    for pattern in patterns:\n",
    "        for column in columns:\n",
    "            data_modified[column] = data_modified[column].str.replace(pattern, '')\n",
    "    return data_modified\n",
    "\n",
    "\n",
    "def remove_punctuation(data, columns):\n",
    "    \"\"\"\n",
    "    Remove all non-alpha and non-numeric symbols from text\n",
    "    :param data: pandas DataFrame, data to preprocess\n",
    "    :param columns: list, target columns\n",
    "    :return: pandas DataFrame, preprocessed data\n",
    "    \"\"\"\n",
    "    data_modified = data.copy()\n",
    "    for column in columns:\n",
    "        data_modified[column] = data_modified[column].str.replace('[^\\w\\s]', '')\n",
    "    return data_modified\n",
    "\n",
    "\n",
    "def stemming(data, columns):\n",
    "    \"\"\"\n",
    "    Stem the words. Return only neutral form of each word without sufixes or prefixes\n",
    "    :param data: pandas DataFrame, data to preprocess\n",
    "    :param columns: list, target columns\n",
    "    :return: pandas DataFrame, preprocessed data\n",
    "    \"\"\"\n",
    "    data_modified = data.copy()\n",
    "    stemmer = nltk.stem.PorterStemmer()\n",
    "    for column in columns:\n",
    "        data_modified[column] = data_modified[column].apply(\n",
    "            lambda sent: ' '.join([stemmer.stem(word) for word in sent.split()]))\n",
    "    return data_modified\n",
    "\n",
    "\n",
    "def get_most_less_freq(data, columns, top=10):\n",
    "    \"\"\"\n",
    "    Return the top most and the least frequent words\n",
    "    :param data: pandas DataFrame, data to preprocess\n",
    "    :param columns: list, target columns\n",
    "    :param top: int, number of first and last frequent words\n",
    "    :return: pandas DataFrame, preprocessed data\n",
    "    \"\"\"\n",
    "    data_modified = data.copy()\n",
    "    result = {}\n",
    "    for column in columns:\n",
    "        frequency = pd.Series(' '.join(data_modified[column]) \\\n",
    "                              .split()).value_counts()\n",
    "        remove_words = list(frequency.index)[:top] + list(frequency.index)[-top:]\n",
    "        result[column] = remove_words\n",
    "    return result\n",
    "    \n",
    "\n",
    "def tokenize_words(data, column):\n",
    "    \"\"\"\n",
    "    Tokenize strings. Create list of separate words for each value.\n",
    "    :param data: pandas DataFrame, data to preprocess\n",
    "    :param columns: list, target columns\n",
    "    :return: pandas DataFrame, preprocessed data\n",
    "    \"\"\"\n",
    "    data_modified = data.copy()\n",
    "    data_modified[column] = data_modified[column].apply(nltk.tokenize.word_tokenize)\n",
    "    return data_modified\n",
    "\n",
    "\n",
    "def remove_stopwords(data, column, stopwords):\n",
    "    \"\"\"\n",
    "    Remove the words from stopwords list from text.\n",
    "    :param data: pandas DataFrame, data to preprocess\n",
    "    :param columns: list, target columns\n",
    "    :param stopwords: lsit, short or too frequent words\n",
    "    :return: pandas DataFrame, preprocessed data\n",
    "    \"\"\"\n",
    "    data_modified = data.copy()\n",
    "    data_modified[column] = data_modified[column].apply(\n",
    "        lambda tokens: [w for w in tokens if not w in stopwords])\n",
    "    return data_modified\n",
    "\n",
    "\n",
    "def embed_text_columns(data, columns, model):\n",
    "    \"\"\"\n",
    "    For each string representation create new embedding columns\n",
    "    :param data: pandas DataFrame, data to preprocess\n",
    "    :param columns: list, target columns\n",
    "    :param model: object, embedding model\n",
    "    :return: pandas DataFrame, preprocessed data\n",
    "    \"\"\"\n",
    "    data_modified = data.copy()\n",
    "    result = [data_modified]\n",
    "    for column in columns:\n",
    "        embeddings = data_modified[column].apply(lambda x: list_embedding(x, model))\n",
    "        embeddings_df = pd.DataFrame(np.vstack(embeddings.values), \n",
    "                                     columns=[column + '_' + str(i) for i in range(embeddings.values[0].shape[0])],\n",
    "                                     index=data_modified[column].index)\n",
    "        result.append(embeddings_df)\n",
    "    return pd.concat(result, sort=False, axis=1)\n",
    "\n",
    "        \n",
    "def list_embedding(data, model):\n",
    "    \"\"\" TODO\n",
    "    Get string embedding\n",
    "    :param data: list, tokenized string\n",
    "    :param model: object, embedding model\n",
    "    :return: numpy array, embedding\n",
    "    \"\"\"\n",
    "    result = []\n",
    "    for item in data:\n",
    "        try:         \n",
    "            result.append(model[item])\n",
    "        except KeyError:\n",
    "            result.append(np.zeros((25,)).astype(np.float32))\n",
    "    return np.sum(np.array(result), axis=0) / len(data)  \\\n",
    "            if len(data) > 0 else np.zeros((25,)).astype(np.float32)"
   ]
  },
  {
   "cell_type": "code",
   "execution_count": 21,
   "metadata": {},
   "outputs": [],
   "source": [
    "# Preprocess date\n",
    "data_fixed_date = extract_date_features(data_na_dt_purp_state_oh, const.DATETIME_COLS)\n",
    "# Deal with absent text\n",
    "data_fixed_date_text_na = fillna_text(data_fixed_date, const.TEXT_COLS)\n",
    "# Cast text to lower case\n",
    "data_text_lower = to_lower(data_fixed_date_text_na, const.TEXT_COLS)\n",
    "# Clean text\n",
    "data_text_clean = remove_other_phrases(data_text_lower, const.TEXT_COLS)\n",
    "# Remove puctuation\n",
    "data_text_no_punct = remove_punctuation(data_text_clean, const.TEXT_COLS)\n",
    "# Stem text data\n",
    "data_text_stemmed = stemming(data_text_no_punct, const.TEXT_COLS)\n",
    "# Get most and least frequent words\n",
    "most_less_freq = get_most_less_freq(data_text_stemmed, const.TEXT_COLS)\n",
    "# Tokenize text data\n",
    "for column in const.TEXT_COLS:\n",
    "    data_text_stemmed = tokenize_words(data_text_stemmed, column)\n",
    "# Remove frequent words\n",
    "for column in const.TEXT_COLS:\n",
    "    freq = most_less_freq[column]\n",
    "    data_text_stemmed = remove_stopwords(data_text_stemmed, column, const.STOPWORDS + freq)"
   ]
  },
  {
   "cell_type": "code",
   "execution_count": 22,
   "metadata": {},
   "outputs": [],
   "source": [
    "# Load embedding model\n",
    "w2v = api.load(\"glove-twitter-25\")\n",
    "# Get embeddings\n",
    "data_text_embedded = embed_text_columns(data_text_stemmed, const.TEXT_COLS, w2v)"
   ]
  },
  {
   "cell_type": "markdown",
   "metadata": {},
   "source": [
    "#  Final data selection\n",
    "\n",
    "We should deal with column that we took information from and that are no more useful for us."
   ]
  },
  {
   "cell_type": "code",
   "execution_count": 23,
   "metadata": {},
   "outputs": [],
   "source": [
    "drop_columns = ['is_bad', 'emp_title', 'Notes', 'purpose', 'zip_code', 'earliest_cr_line',\n",
    "       'home_ownership_OTHER', 'verification_status_not verified', 'pymnt_plan_n', \n",
    "        'purpose_cat_', 'initial_list_status_m']"
   ]
  },
  {
   "cell_type": "code",
   "execution_count": 24,
   "metadata": {},
   "outputs": [],
   "source": [
    "y = data_text_embedded['is_bad']\n",
    "X = data_text_embedded.drop(columns=drop_columns).astype(np.float64)"
   ]
  },
  {
   "cell_type": "markdown",
   "metadata": {},
   "source": [
    "#### Normalize all data"
   ]
  },
  {
   "cell_type": "code",
   "execution_count": 25,
   "metadata": {},
   "outputs": [],
   "source": [
    "sc = StandardScaler(with_mean=True, with_std=True)\n",
    "X_sc = sc.fit_transform(X)"
   ]
  },
  {
   "cell_type": "markdown",
   "metadata": {},
   "source": [
    "## Partition data"
   ]
  },
  {
   "cell_type": "code",
   "execution_count": 26,
   "metadata": {},
   "outputs": [],
   "source": [
    "from sklearn.model_selection import train_test_split\n",
    "\n",
    "# It's holdout dataset, so we'll keep it fairly small\n",
    "X_train, X_holdout, y_train, y_holdout = train_test_split(X_sc, y, test_size=0.1, random_state=43, shuffle=False)  "
   ]
  },
  {
   "cell_type": "markdown",
   "metadata": {},
   "source": [
    "# Prediction\n",
    "\n",
    "First of we should create baseline model, that we will use to estimate baseline metric. \n",
    "\n",
    "Ideally such model should give random result, so the accuracy and f1 score should be near 0.5.\n",
    "\n",
    "But the thing that we should remember is that our data is imbalanced. And for no means should we use accuracy. Such dummy classifier should be weighted for purpose of more correct result."
   ]
  },
  {
   "cell_type": "code",
   "execution_count": 27,
   "metadata": {},
   "outputs": [],
   "source": [
    "class DummyClassifierLocal(BaseEstimator, ClassifierMixin):\n",
    "    \"\"\"\n",
    "    DummyClassifierLocal implements standard sklearn interfaces to be used in sklearn pipelines and estimators.\n",
    "    \"\"\"\n",
    "    def __init__(self, n_classes=2, weights=None):\n",
    "        \"\"\"\n",
    "        Create an instance of DummyClassifierLocal class\n",
    "        :param n_classes: int, number of unique classes\n",
    "        :param weights: list, class weights\n",
    "        :return: DummyClassifierLocal\n",
    "        \"\"\"\n",
    "        self.n_classes = n_classes\n",
    "        self.weights = weights\n",
    "        \n",
    "    def fit(self, X, y=None):\n",
    "        \"\"\"\n",
    "        Train classifier\n",
    "        :param X: array-like, input data\n",
    "        :param y: array-like, true labels \n",
    "        :return: self\n",
    "        \"\"\"\n",
    "        if getattr(self, 'weights') is None:\n",
    "            self.p_ = np.ones((1, self.n_classes)) / self.n_classes\n",
    "        else:\n",
    "            self.p_ = self.weights\n",
    "        return self\n",
    "    \n",
    "    def predict(self, X, y=None):\n",
    "        \"\"\"\n",
    "        Predicts output values based on input\n",
    "        :param X: array-like, input data\n",
    "        :param y: array-like, labels \n",
    "        :return: array-like, predicted labels\n",
    "        \"\"\"\n",
    "        return np.random.choice(self.n_classes, size=(X.shape[0]), p=self.p_)\n",
    "    \n",
    "    def score(self, X, y=None):\n",
    "        \"\"\"\n",
    "        Counts ratio of true positive to all samples\n",
    "        :param X: array-like, input data\n",
    "        :param y: array-like, labels \n",
    "        :return: float, score value\n",
    "        \"\"\"\n",
    "        return np.count_nonzero(self.predict(X) == y) / X.shape[0] "
   ]
  },
  {
   "cell_type": "code",
   "execution_count": 32,
   "metadata": {
    "scrolled": true
   },
   "outputs": [
    {
     "name": "stdout",
     "output_type": "stream",
     "text": [
      "\n",
      "Results for LogisticRegression:\n",
      "    f1: 0.24275254173550126\n",
      "    neg_log_loss: -0.3384754761312384\n",
      "\n",
      "Results for MLPClassifier:\n",
      "    f1: 0.2538150012002564\n",
      "    neg_log_loss: -1.5349054156343072\n",
      "\n",
      "Results for DummyClassifier:\n",
      "    f1: 0.12342267649594267\n",
      "    neg_log_loss: -7.7252208534482945\n",
      "\n",
      "On holdout set LogisticRegression:\n",
      "    f1: 0.23312883435582823\n",
      "    negative log_loss: 4.317347049363836\n",
      "\n",
      "On holdout set MLPClassifier:\n",
      "    f1: 0.3202846975088968\n",
      "    negative log_loss: 6.596979854391519\n",
      "\n",
      "On holdout set DummyClassifier:\n",
      "    f1: 0.12454212454212454\n",
      "    negative log_loss: 8.254857113295834\n"
     ]
    }
   ],
   "source": [
    "def get_model_cros_val_score(X, y, model, metrics, cv=5):\n",
    "    result = cross_validate(model, X, y, cv=cv, scoring=metrics, return_estimator=True)\n",
    "    return result\n",
    "\n",
    "    \n",
    "def print_results(result, metrics):\n",
    "    print(f\"\\nResults for {result['estimator'][0].__class__.__name__}:\")\n",
    "    for metric in metrics:\n",
    "        print(f\"    {metric}: {np.mean(result['test_' + metric])}\")\n",
    "\n",
    "\n",
    "metrics = ['f1', 'neg_log_loss']\n",
    "models = [\n",
    "    LogisticRegression(penalty='l2', solver='lbfgs', max_iter=1000, tol=10e-5),\n",
    "    MLPClassifier(hidden_layer_sizes=(30, 20)),\n",
    "    DummyClassifier(strategy='stratified')\n",
    "]\n",
    "model_result = {}\n",
    "\n",
    "for model in models:\n",
    "    result = get_model_cros_val_score(X_train, y_train, model, metrics)\n",
    "    model_result[model.__class__.__name__] = result\n",
    "    print_results(result, metrics)\n",
    "\n",
    "    \n",
    "for label, result in model_result.items():\n",
    "    y_pred = result['estimator'][0].predict(X_holdout)\n",
    "    print(f'\\nOn holdout set {label}:')\n",
    "    print(f'    f1: {f1_score(y_holdout, y_pred)}')\n",
    "    print(f'    negative log_loss: {log_loss(y_holdout, y_pred)}')"
   ]
  },
  {
   "cell_type": "markdown",
   "metadata": {},
   "source": [
    "## Feature importance estimation\n",
    "\n",
    "To estimate which features should we select, say in a case when dimensionality reduction is needed, we can use different metrics to estimate feature importances.\n",
    "\n",
    "However, one should remember, that feature importances, provided by the following tests do not mean the features have the same influence on model. \n",
    "\n",
    "Here we will use two approaches: mutual information criteria estimation and f-test. F-test is better at capturing linear dependencies between features, while MI can capture non-linear as well."
   ]
  },
  {
   "cell_type": "code",
   "execution_count": 33,
   "metadata": {},
   "outputs": [],
   "source": [
    "def select_k_best_f_val(X, y, top_n):\n",
    "    selector = SelectKBest(f_classif, k=top_n)\n",
    "    X_red = selector.fit(X, y)\n",
    "    scores = np.nan_to_num(-np.log10(selector.pvalues_))\n",
    "    scores /= scores.max()\n",
    "    return scores\n",
    "    \n",
    "    \n",
    "def select_k_best_mi(X, y, top_n):\n",
    "    selector = SelectKBest(mutual_info_classif, k=top_n)\n",
    "    X_red = selector.fit(X, y)\n",
    "    scores = selector.scores_\n",
    "    scores /= scores.max()\n",
    "    return scores\n",
    "\n",
    "\n",
    "def print_feature_importances(scores, kind, columns, top_n):\n",
    "    sorted_idx = np.argsort(scores)[::-1][:top_n]\n",
    "    columns = columns[sorted_idx]    \n",
    "    plt.figure()\n",
    "    plt.title(f\"Feature importances by {kind}\")\n",
    "    plt.bar(range(top_n), scores[sorted_idx], color=\"r\", align=\"center\")\n",
    "    plt.xticks(range(top_n), columns, rotation=90)\n",
    "    plt.xlim([-1, top_n])"
   ]
  },
  {
   "cell_type": "code",
   "execution_count": 34,
   "metadata": {},
   "outputs": [
    {
     "data": {
      "image/png": "[encoded data removed]",
      "text/plain": [
       "<Figure size 432x288 with 1 Axes>"
      ]
     },
     "metadata": {
      "needs_background": "light"
     },
     "output_type": "display_data"
    },
    {
     "data": {
      "image/png": "[encoded data removed]",
      "text/plain": [
       "<Figure size 432x288 with 1 Axes>"
      ]
     },
     "metadata": {
      "needs_background": "light"
     },
     "output_type": "display_data"
    }
   ],
   "source": [
    "columns = X.columns \n",
    "top_n = 15\n",
    "\n",
    "f_scores = select_k_best_f_val(X_sc, y, top_n)\n",
    "mi_scores = select_k_best_mi(X_sc, y, top_n)\n",
    "print_feature_importances(f_scores, 'f-value', columns, top_n)\n",
    "print_feature_importances(mi_scores, 'mutual information criteria', columns, top_n)\n",
    "plt.show()"
   ]
  },
  {
   "cell_type": "markdown",
   "metadata": {},
   "source": [
    "As we can see on plots, each method selected hend-engineered feature that indicates whether the loan is for small business as the most important. Another important feature is `total_acc` (Total number of accounts for the loan applicant).\n",
    "\n",
    "Among other 15 most important features there are `revol_util` (Loan applicant’s percentage utilization of their\n",
    "revolving credit facility), `purpose_cat - credit card` and `pub_rec` (The number of public record judgements\n",
    "against the loan applicant).\n",
    "\n",
    "Once again, these are just statistical and information theory methods for feature importance estimation, and it may differ to those that model used."
   ]
  },
  {
   "cell_type": "markdown",
   "metadata": {},
   "source": [
    "# Conclusions"
   ]
  },
  {
   "cell_type": "markdown",
   "metadata": {},
   "source": [
    "1. After computing scores, I may conclude, that MLP with two hidden layers is the best model in such case. Even though it trains longer, it gives better result. However, simple linear model such as Logistic Regression fits good as well.\n",
    "\n",
    "2. Both classifiers are much better (2x) comparing to DummyClassifier by comparing their f1 score.\n",
    "\n",
    "3. In this work I did not focus on hyperparameters tuning, as it could take another day :D Instead I used some best-fit hyperparameters (including l2 penalized LogRegression).\n",
    "\n",
    "4. If I had more time, it would be feasible to try using RNN networks to classify text data. Also, the output embeddings from RNN could be concatenated with other data and can be fit in some classifier.\n"
   ]
  }
 ],
 "metadata": {
  "kernelspec": {
   "display_name": "Python 3",
   "language": "python",
   "name": "python3"
  },
  "language_info": {
   "codemirror_mode": {
    "name": "ipython",
    "version": 3
   },
   "file_extension": ".py",
   "mimetype": "text/x-python",
   "name": "python",
   "nbconvert_exporter": "python",
   "pygments_lexer": "ipython3",
   "version": "3.6.7"
  }
 },
 "nbformat": 4,
 "nbformat_minor": 2
}
